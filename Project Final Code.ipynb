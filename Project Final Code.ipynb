{
 "cells": [
  {
   "cell_type": "markdown",
   "metadata": {},
   "source": [
    "# Importing Libraries"
   ]
  },
  {
   "cell_type": "code",
   "execution_count": 263,
   "metadata": {},
   "outputs": [],
   "source": [
    "import urllib.request \n",
    "import urllib.parse\n",
    "import urllib.error\n",
    "import ssl\n",
    "from urllib.request import Request, urlopen\n",
    "from bs4 import BeautifulSoup as BS\n",
    "import re\n",
    "import pandas as pd\n",
    "ctx = ssl.create_default_context()\n",
    "ctx.check_hostname = False\n",
    "ctx.verify_mode = ssl.CERT_NONE"
   ]
  },
  {
   "cell_type": "markdown",
   "metadata": {},
   "source": [
    "# Property URLs extraction from multiple city URLs"
   ]
  },
  {
   "cell_type": "code",
   "execution_count": 379,
   "metadata": {},
   "outputs": [
    {
     "data": {
      "text/plain": [
       "23"
      ]
     },
     "execution_count": 379,
     "metadata": {},
     "output_type": "execute_result"
    }
   ],
   "source": [
    "list_city_urls = []\n",
    "lst = []\n",
    "file = open(\"City_URLs.txt\",\"r\")\n",
    "for line in file:\n",
    "    lst.append(line)\n",
    "\n",
    "for i in lst:\n",
    "    x = i.rstrip(\"\\n\")\n",
    "    list_city_urls.append(x)\n",
    "len(list_city_urls)\n"
   ]
  },
  {
   "cell_type": "code",
   "execution_count": 380,
   "metadata": {},
   "outputs": [
    {
     "data": {
      "text/html": [
       "<div>\n",
       "<style scoped>\n",
       "    .dataframe tbody tr th:only-of-type {\n",
       "        vertical-align: middle;\n",
       "    }\n",
       "\n",
       "    .dataframe tbody tr th {\n",
       "        vertical-align: top;\n",
       "    }\n",
       "\n",
       "    .dataframe thead th {\n",
       "        text-align: right;\n",
       "    }\n",
       "</style>\n",
       "<table border=\"1\" class=\"dataframe\">\n",
       "  <thead>\n",
       "    <tr style=\"text-align: right;\">\n",
       "      <th></th>\n",
       "      <th>Urls</th>\n",
       "    </tr>\n",
       "  </thead>\n",
       "  <tbody>\n",
       "    <tr>\n",
       "      <th>0</th>\n",
       "      <td>https://www.zillow.com/homedetails/2200-Geller...</td>\n",
       "    </tr>\n",
       "    <tr>\n",
       "      <th>1</th>\n",
       "      <td>https://www.zillow.com/homedetails/116-Mountai...</td>\n",
       "    </tr>\n",
       "    <tr>\n",
       "      <th>2</th>\n",
       "      <td>https://www.zillow.com/homedetails/617-Joaquin...</td>\n",
       "    </tr>\n",
       "    <tr>\n",
       "      <th>3</th>\n",
       "      <td>https://www.zillow.com/homedetails/224-Village...</td>\n",
       "    </tr>\n",
       "    <tr>\n",
       "      <th>4</th>\n",
       "      <td>https://www.zillow.com/homedetails/376-Avalon-...</td>\n",
       "    </tr>\n",
       "  </tbody>\n",
       "</table>\n",
       "</div>"
      ],
      "text/plain": [
       "                                                Urls\n",
       "0  https://www.zillow.com/homedetails/2200-Geller...\n",
       "1  https://www.zillow.com/homedetails/116-Mountai...\n",
       "2  https://www.zillow.com/homedetails/617-Joaquin...\n",
       "3  https://www.zillow.com/homedetails/224-Village...\n",
       "4  https://www.zillow.com/homedetails/376-Avalon-..."
      ]
     },
     "execution_count": 380,
     "metadata": {},
     "output_type": "execute_result"
    }
   ],
   "source": [
    "all_urls = []\n",
    "for x in list_city_urls:\n",
    "    req = Request(x, headers={'User-Agent': 'Mozilla/5.0'})\n",
    "    webpage = urlopen(req).read()\n",
    "    soup = BS(webpage,'html.parser')\n",
    "    listcontent = soup.findAll('a',attrs={'class':\"list-card-link\",'tabindex':\"0\"},href =True)\n",
    "    for links in listcontent:\n",
    "        all_urls.append(links['href'])\n",
    "df_url = pd.DataFrame({'Urls':all_urls})\n",
    "df_url.head()"
   ]
  },
  {
   "cell_type": "markdown",
   "metadata": {},
   "source": [
    "## Writing the URLs to a csv file "
   ]
  },
  {
   "cell_type": "code",
   "execution_count": 382,
   "metadata": {},
   "outputs": [],
   "source": [
    "df_url.to_csv('all_urls.csv',index=False) "
   ]
  },
  {
   "cell_type": "markdown",
   "metadata": {},
   "source": [
    "# Reading the csv file for the URLs"
   ]
  },
  {
   "cell_type": "code",
   "execution_count": 383,
   "metadata": {},
   "outputs": [
    {
     "data": {
      "text/html": [
       "<div>\n",
       "<style scoped>\n",
       "    .dataframe tbody tr th:only-of-type {\n",
       "        vertical-align: middle;\n",
       "    }\n",
       "\n",
       "    .dataframe tbody tr th {\n",
       "        vertical-align: top;\n",
       "    }\n",
       "\n",
       "    .dataframe thead th {\n",
       "        text-align: right;\n",
       "    }\n",
       "</style>\n",
       "<table border=\"1\" class=\"dataframe\">\n",
       "  <thead>\n",
       "    <tr style=\"text-align: right;\">\n",
       "      <th></th>\n",
       "      <th>Urls</th>\n",
       "    </tr>\n",
       "  </thead>\n",
       "  <tbody>\n",
       "    <tr>\n",
       "      <th>0</th>\n",
       "      <td>https://www.zillow.com/homedetails/2200-Geller...</td>\n",
       "    </tr>\n",
       "    <tr>\n",
       "      <th>1</th>\n",
       "      <td>https://www.zillow.com/homedetails/116-Mountai...</td>\n",
       "    </tr>\n",
       "    <tr>\n",
       "      <th>2</th>\n",
       "      <td>https://www.zillow.com/homedetails/617-Joaquin...</td>\n",
       "    </tr>\n",
       "    <tr>\n",
       "      <th>3</th>\n",
       "      <td>https://www.zillow.com/homedetails/224-Village...</td>\n",
       "    </tr>\n",
       "    <tr>\n",
       "      <th>4</th>\n",
       "      <td>https://www.zillow.com/homedetails/376-Avalon-...</td>\n",
       "    </tr>\n",
       "  </tbody>\n",
       "</table>\n",
       "</div>"
      ],
      "text/plain": [
       "                                                Urls\n",
       "0  https://www.zillow.com/homedetails/2200-Geller...\n",
       "1  https://www.zillow.com/homedetails/116-Mountai...\n",
       "2  https://www.zillow.com/homedetails/617-Joaquin...\n",
       "3  https://www.zillow.com/homedetails/224-Village...\n",
       "4  https://www.zillow.com/homedetails/376-Avalon-..."
      ]
     },
     "execution_count": 383,
     "metadata": {},
     "output_type": "execute_result"
    }
   ],
   "source": [
    "urls = pd.read_csv('all_urls.csv')\n",
    "urls.head()"
   ]
  },
  {
   "cell_type": "code",
   "execution_count": 149,
   "metadata": {},
   "outputs": [
    {
     "name": "stdout",
     "output_type": "stream",
     "text": [
      "35 35 35 35\n",
      "35 35 35 35 35 35\n"
     ]
    }
   ],
   "source": [
    "P_Price = []\n",
    "P_Year = []\n",
    "P_Apt_type = []\n",
    "P_Heating = []\n",
    "P_Cooling = []\n",
    "P_Parking = []\n",
    "P_Zestimate = []\n",
    "P_Address =[]\n",
    "P_Beds = []\n",
    "P_Baths = []\n",
    "P_Area = []\n",
    "P_HOA = []\n",
    "\n",
    "for x in urls['Urls'][850:885]:\n",
    "    req = Request(str(x), headers={'User-Agent': 'Mozilla/5.0'})\n",
    "    webpage = urlopen(req).read()\n",
    "    webstring = str(webpage)\n",
    "    soup = BS(webpage,'html.parser')\n",
    "    \n",
    "    homeprice = []\n",
    "    price = soup.findAll('span',attrs={'class':'ds-value'})\n",
    "    for tag in price:\n",
    "        homeprice.append(tag.text)\n",
    "    if len(homeprice)==0:\n",
    "        P_Price.append(0)\n",
    "    else:\n",
    "        P_Price.append(homeprice[0])\n",
    "        \n",
    "    homefacts = []\n",
    "    homefactvalue = soup.findAll('span',attrs={'class':\"ds-body ds-home-fact-value\"})\n",
    "\n",
    "    for tag in homefactvalue:\n",
    "        homefacts.append(tag.contents[0])\n",
    "    if len(homefacts)==0:\n",
    "        P_Apt_type.append('0')\n",
    "        P_Year.append('0')\n",
    "        P_Heating.append('0')\n",
    "        P_Cooling.append('0')\n",
    "        P_Parking.append('0')\n",
    "    else:\n",
    "        P_Apt_type.append(homefacts[0])\n",
    "        P_Year.append(homefacts[1])\n",
    "        P_Heating.append(homefacts[2])\n",
    "        P_Cooling.append(homefacts[3])\n",
    "        P_Parking.append(homefacts[4])\n",
    "    index = soup.findAll('div',attrs={'class':'Spacer-sc-17suqs2-0 gsRmiW'})\n",
    "    if len(index)==0:\n",
    "        P_Zestimate.append('0')\n",
    "    else:\n",
    "        P_Zestimate.append(index[0].text)\n",
    "    \n",
    "    \n",
    "    bedbath = []       \n",
    "    \n",
    "    index = soup.findAll('span',attrs={'class':\"ds-bed-bath-living-area\"})\n",
    "    for tag in index:\n",
    "        bedbath.append(tag.contents[0].text)\n",
    "    if len(bedbath)>=3:\n",
    "        P_Beds.append(bedbath[0])\n",
    "        P_Baths.append(bedbath[1])\n",
    "        P_Area.append(bedbath[2])\n",
    "    elif len(bedbath)==0:\n",
    "        P_Beds.append('0')\n",
    "        P_Baths.append('0')\n",
    "        P_Area.append('0')\n",
    "    elif len(bedbath)==1:\n",
    "        P_Beds.append(bedbath[0])\n",
    "        P_Baths.append(bedbath[1])\n",
    "        P_Area.append('0')\n",
    "    else:\n",
    "        P_Beds.append(bedbath[0])\n",
    "        P_Baths.append('0')\n",
    "        P_Area.append('0')\n",
    "        \n",
    "        \n",
    "\n",
    "    address = soup.findAll('h1',attrs={'class':\"ds-address-container\"})\n",
    "    addr1 = []\n",
    "    addr2 = []\n",
    "    for tag in address:\n",
    "        addr1.append(tag.contents[0].text)\n",
    "        addr2.append(tag.contents[1].text)\n",
    "    if (len(addr1) | len(addr2)) == 0:\n",
    "        P_Address.append('0')\n",
    "    else:\n",
    "        P_Address.append(addr1[0]+' '+addr2[0])\n",
    "\n",
    "print(len(P_Address),len(P_Beds),len(P_Baths),len(P_Area))\n",
    "\n",
    "print(len(P_Price),len(P_Year),len(P_Apt_type),len(P_Heating),len(P_Cooling),len(P_Parking))\n"
   ]
  },
  {
   "cell_type": "code",
   "execution_count": 155,
   "metadata": {},
   "outputs": [
    {
     "data": {
      "text/html": [
       "<div>\n",
       "<style scoped>\n",
       "    .dataframe tbody tr th:only-of-type {\n",
       "        vertical-align: middle;\n",
       "    }\n",
       "\n",
       "    .dataframe tbody tr th {\n",
       "        vertical-align: top;\n",
       "    }\n",
       "\n",
       "    .dataframe thead th {\n",
       "        text-align: right;\n",
       "    }\n",
       "</style>\n",
       "<table border=\"1\" class=\"dataframe\">\n",
       "  <thead>\n",
       "    <tr style=\"text-align: right;\">\n",
       "      <th></th>\n",
       "      <th>Price</th>\n",
       "      <th>Built_Year</th>\n",
       "      <th>Apt_Type</th>\n",
       "      <th>Heating</th>\n",
       "      <th>Cooling</th>\n",
       "      <th>Parking</th>\n",
       "      <th>Address</th>\n",
       "      <th>Bedrooms</th>\n",
       "      <th>Bath_Spaces</th>\n",
       "      <th>Area</th>\n",
       "      <th>Zestimate</th>\n",
       "    </tr>\n",
       "  </thead>\n",
       "  <tbody>\n",
       "    <tr>\n",
       "      <th>850</th>\n",
       "      <td>$1,349,000</td>\n",
       "      <td>2011</td>\n",
       "      <td>Townhouse</td>\n",
       "      <td>Forced air</td>\n",
       "      <td>Central</td>\n",
       "      <td>2 spaces</td>\n",
       "      <td>428 San Eduardo Ter,  Sunnyvale, CA 94085</td>\n",
       "      <td>3</td>\n",
       "      <td>4</td>\n",
       "      <td>1,516</td>\n",
       "      <td>$1,390,224</td>\n",
       "    </tr>\n",
       "    <tr>\n",
       "      <th>851</th>\n",
       "      <td>$1,299,000</td>\n",
       "      <td>1969</td>\n",
       "      <td>Single Family</td>\n",
       "      <td>Forced air</td>\n",
       "      <td>Central</td>\n",
       "      <td>2 spaces</td>\n",
       "      <td>1052 E Evelyn Ave,  Sunnyvale, CA 94086</td>\n",
       "      <td>3</td>\n",
       "      <td>2</td>\n",
       "      <td>1,198</td>\n",
       "      <td>$1,339,877</td>\n",
       "    </tr>\n",
       "    <tr>\n",
       "      <th>852</th>\n",
       "      <td>$1,998,000</td>\n",
       "      <td>1958</td>\n",
       "      <td>Single Family</td>\n",
       "      <td>Radiant</td>\n",
       "      <td>None</td>\n",
       "      <td>2 spaces</td>\n",
       "      <td>1607 Edmonton Ave,  Sunnyvale, CA 94087</td>\n",
       "      <td>4</td>\n",
       "      <td>2</td>\n",
       "      <td>1,890</td>\n",
       "      <td>$2,298,087</td>\n",
       "    </tr>\n",
       "    <tr>\n",
       "      <th>853</th>\n",
       "      <td>$1,148,000</td>\n",
       "      <td>1986</td>\n",
       "      <td>Townhouse</td>\n",
       "      <td>Forced air</td>\n",
       "      <td>None</td>\n",
       "      <td>2 spaces</td>\n",
       "      <td>979 Belmont Ter UNIT 4,  Sunnyvale, CA 94086</td>\n",
       "      <td>2</td>\n",
       "      <td>3</td>\n",
       "      <td>1,329</td>\n",
       "      <td>$1,225,007</td>\n",
       "    </tr>\n",
       "    <tr>\n",
       "      <th>854</th>\n",
       "      <td>$1,899,000</td>\n",
       "      <td>1948</td>\n",
       "      <td>Single Family</td>\n",
       "      <td>Forced air</td>\n",
       "      <td>No Data</td>\n",
       "      <td>10 spaces</td>\n",
       "      <td>1350 Ramon Dr,  Sunnyvale, CA 94087</td>\n",
       "      <td>3</td>\n",
       "      <td>3</td>\n",
       "      <td>2,491</td>\n",
       "      <td>$2,193,388</td>\n",
       "    </tr>\n",
       "  </tbody>\n",
       "</table>\n",
       "</div>"
      ],
      "text/plain": [
       "          Price Built_Year       Apt_Type     Heating  Cooling    Parking  \\\n",
       "850  $1,349,000       2011      Townhouse  Forced air  Central   2 spaces   \n",
       "851  $1,299,000       1969  Single Family  Forced air  Central   2 spaces   \n",
       "852  $1,998,000       1958  Single Family     Radiant     None   2 spaces   \n",
       "853  $1,148,000       1986      Townhouse  Forced air     None   2 spaces   \n",
       "854  $1,899,000       1948  Single Family  Forced air  No Data  10 spaces   \n",
       "\n",
       "                                          Address Bedrooms Bath_Spaces   Area  \\\n",
       "850     428 San Eduardo Ter,  Sunnyvale, CA 94085        3           4  1,516   \n",
       "851       1052 E Evelyn Ave,  Sunnyvale, CA 94086        3           2  1,198   \n",
       "852       1607 Edmonton Ave,  Sunnyvale, CA 94087        4           2  1,890   \n",
       "853  979 Belmont Ter UNIT 4,  Sunnyvale, CA 94086        2           3  1,329   \n",
       "854           1350 Ramon Dr,  Sunnyvale, CA 94087        3           3  2,491   \n",
       "\n",
       "      Zestimate  \n",
       "850  $1,390,224  \n",
       "851  $1,339,877  \n",
       "852  $2,298,087  \n",
       "853  $1,225,007  \n",
       "854  $2,193,388  "
      ]
     },
     "execution_count": 155,
     "metadata": {},
     "output_type": "execute_result"
    }
   ],
   "source": [
    "data18 = pd.DataFrame({\"Price\":P_Price,\"Built_Year\":P_Year,\"Apt_Type\":P_Apt_type,\"Heating\":P_Heating,\"Cooling\":P_Cooling,\n",
    "                     \"Parking\":P_Parking,'Address':P_Address,'Bedrooms':P_Beds,'Bath_Spaces':P_Baths,'Area':P_Area,\n",
    "                     'Zestimate':P_Zestimate},index = [x for x in range(850,885)])\n"
   ]
  },
  {
   "cell_type": "markdown",
   "metadata": {},
   "source": [
    "### As there is a timeout issue, ie a request being called from a single source multiple times leads to a timeout issue, we have collected the data in clusters of 50 and appended them later."
   ]
  },
  {
   "cell_type": "code",
   "execution_count": 151,
   "metadata": {},
   "outputs": [],
   "source": [
    "data = data.append(data18)"
   ]
  },
  {
   "cell_type": "code",
   "execution_count": 255,
   "metadata": {},
   "outputs": [],
   "source": [
    "data.to_csv('Real_data.csv', header = True, index = False)"
   ]
  },
  {
   "cell_type": "code",
   "execution_count": 333,
   "metadata": {},
   "outputs": [],
   "source": [
    "df = pd.read_csv(\"RealEstateData.csv\")"
   ]
  },
  {
   "cell_type": "code",
   "execution_count": 334,
   "metadata": {},
   "outputs": [
    {
     "data": {
      "text/html": [
       "<div>\n",
       "<style scoped>\n",
       "    .dataframe tbody tr th:only-of-type {\n",
       "        vertical-align: middle;\n",
       "    }\n",
       "\n",
       "    .dataframe tbody tr th {\n",
       "        vertical-align: top;\n",
       "    }\n",
       "\n",
       "    .dataframe thead th {\n",
       "        text-align: right;\n",
       "    }\n",
       "</style>\n",
       "<table border=\"1\" class=\"dataframe\">\n",
       "  <thead>\n",
       "    <tr style=\"text-align: right;\">\n",
       "      <th></th>\n",
       "      <th>Price</th>\n",
       "      <th>Built_Year</th>\n",
       "      <th>Apt_Type</th>\n",
       "      <th>Heating</th>\n",
       "      <th>Cooling</th>\n",
       "      <th>Parking</th>\n",
       "      <th>Address</th>\n",
       "      <th>Bedrooms</th>\n",
       "      <th>Bath_Spaces</th>\n",
       "      <th>Area</th>\n",
       "      <th>Zestimate</th>\n",
       "      <th>zip_code</th>\n",
       "    </tr>\n",
       "  </thead>\n",
       "  <tbody>\n",
       "    <tr>\n",
       "      <th>0</th>\n",
       "      <td>1195000</td>\n",
       "      <td>1989</td>\n",
       "      <td>Single Family</td>\n",
       "      <td>Forced air</td>\n",
       "      <td>None</td>\n",
       "      <td>2 spaces</td>\n",
       "      <td>116 Mountain Rd,  South San Francisco, CA 94080</td>\n",
       "      <td>3</td>\n",
       "      <td>3.0</td>\n",
       "      <td>1,580</td>\n",
       "      <td>1304120</td>\n",
       "      <td>94080</td>\n",
       "    </tr>\n",
       "    <tr>\n",
       "      <th>1</th>\n",
       "      <td>1188000</td>\n",
       "      <td>1955</td>\n",
       "      <td>Single Family</td>\n",
       "      <td>Forced air</td>\n",
       "      <td>None</td>\n",
       "      <td>Attached Garage</td>\n",
       "      <td>617 Joaquin Dr,  South San Francisco, CA 94080</td>\n",
       "      <td>3</td>\n",
       "      <td>2.0</td>\n",
       "      <td>1,540</td>\n",
       "      <td>1264270</td>\n",
       "      <td>94080</td>\n",
       "    </tr>\n",
       "    <tr>\n",
       "      <th>2</th>\n",
       "      <td>928000</td>\n",
       "      <td>1944</td>\n",
       "      <td>Single Family</td>\n",
       "      <td>Forced air</td>\n",
       "      <td>None</td>\n",
       "      <td>Attached Garage</td>\n",
       "      <td>224 Village Way,  South San Francisco, CA 94080</td>\n",
       "      <td>3</td>\n",
       "      <td>2.0</td>\n",
       "      <td>1,699</td>\n",
       "      <td>1034580</td>\n",
       "      <td>94080</td>\n",
       "    </tr>\n",
       "    <tr>\n",
       "      <th>3</th>\n",
       "      <td>1095000</td>\n",
       "      <td>1955</td>\n",
       "      <td>Single Family</td>\n",
       "      <td>Forced air</td>\n",
       "      <td>None</td>\n",
       "      <td>Attached Garage</td>\n",
       "      <td>376 Avalon Dr,  South San Francisco, CA 94080</td>\n",
       "      <td>4</td>\n",
       "      <td>2.0</td>\n",
       "      <td>1,650</td>\n",
       "      <td>1237270</td>\n",
       "      <td>94080</td>\n",
       "    </tr>\n",
       "    <tr>\n",
       "      <th>4</th>\n",
       "      <td>888000</td>\n",
       "      <td>1944</td>\n",
       "      <td>Single Family</td>\n",
       "      <td>Forced air</td>\n",
       "      <td>None</td>\n",
       "      <td>1 space</td>\n",
       "      <td>742 W Orange Ave,  South San Francisco, CA 94080</td>\n",
       "      <td>2</td>\n",
       "      <td>1.0</td>\n",
       "      <td>1,000</td>\n",
       "      <td>968716</td>\n",
       "      <td>94080</td>\n",
       "    </tr>\n",
       "  </tbody>\n",
       "</table>\n",
       "</div>"
      ],
      "text/plain": [
       "     Price  Built_Year       Apt_Type     Heating Cooling          Parking  \\\n",
       "0  1195000        1989  Single Family  Forced air    None         2 spaces   \n",
       "1  1188000        1955  Single Family  Forced air    None  Attached Garage   \n",
       "2   928000        1944  Single Family  Forced air    None  Attached Garage   \n",
       "3  1095000        1955  Single Family  Forced air    None  Attached Garage   \n",
       "4   888000        1944  Single Family  Forced air    None          1 space   \n",
       "\n",
       "                                            Address  Bedrooms  Bath_Spaces  \\\n",
       "0   116 Mountain Rd,  South San Francisco, CA 94080         3          3.0   \n",
       "1    617 Joaquin Dr,  South San Francisco, CA 94080         3          2.0   \n",
       "2   224 Village Way,  South San Francisco, CA 94080         3          2.0   \n",
       "3     376 Avalon Dr,  South San Francisco, CA 94080         4          2.0   \n",
       "4  742 W Orange Ave,  South San Francisco, CA 94080         2          1.0   \n",
       "\n",
       "    Area  Zestimate  zip_code  \n",
       "0  1,580    1304120     94080  \n",
       "1  1,540    1264270     94080  \n",
       "2  1,699    1034580     94080  \n",
       "3  1,650    1237270     94080  \n",
       "4  1,000     968716     94080  "
      ]
     },
     "execution_count": 334,
     "metadata": {},
     "output_type": "execute_result"
    }
   ],
   "source": [
    "df.head()"
   ]
  },
  {
   "cell_type": "markdown",
   "metadata": {},
   "source": [
    "## Data Cleaning"
   ]
  },
  {
   "cell_type": "code",
   "execution_count": 335,
   "metadata": {},
   "outputs": [],
   "source": [
    "price = []\n",
    "for i in df['Price']:\n",
    "    x = str(i)\n",
    "    res = ''.join([i for i in x if i.isdigit()])\n",
    "    price.append(res)\n",
    "price = list(map(int,price))\n",
    "df['Price'] = price"
   ]
  },
  {
   "cell_type": "code",
   "execution_count": 336,
   "metadata": {},
   "outputs": [],
   "source": [
    "area = []\n",
    "for i in df['Area']:\n",
    "    x = str(i)\n",
    "    res = ''.join([i for i in x if i.isdigit()])\n",
    "    area.append(res)\n",
    "area = list(map(int,area))\n",
    "df['Area'] = area"
   ]
  },
  {
   "cell_type": "code",
   "execution_count": 337,
   "metadata": {},
   "outputs": [],
   "source": [
    "year = []\n",
    "for i in df['Built_Year']:\n",
    "    if i == 'No Data':\n",
    "        year.append(0)\n",
    "    else:\n",
    "        year.append(i)\n",
    "year = list(map(int,year))\n",
    "df['Built_Year'] = year"
   ]
  },
  {
   "cell_type": "code",
   "execution_count": 338,
   "metadata": {},
   "outputs": [],
   "source": [
    "df['Apt_Type'] = list(map(str,df['Apt_Type']))"
   ]
  },
  {
   "cell_type": "code",
   "execution_count": 339,
   "metadata": {},
   "outputs": [],
   "source": [
    "zestimate = []\n",
    "for i in df['Zestimate']:\n",
    "    x = str(i)\n",
    "    res = ''.join([i for i in x if i.isdigit()])\n",
    "    zestimate.append(res)\n",
    "price = list(map(int,price))\n",
    "df['Zestimate'] = zestimate\n"
   ]
  },
  {
   "cell_type": "code",
   "execution_count": 341,
   "metadata": {},
   "outputs": [],
   "source": [
    "city = []\n",
    "zip_code = []\n",
    "address = []\n",
    "\n",
    "for i in range(len(df)):\n",
    "    if 'nan' in str(df.loc[i,'Address']):\n",
    "        zip_code.append(0)\n",
    "    else:\n",
    "        zip_code.append(int(df.loc[i,'Address'][-5:]))  \n",
    "\n",
    "df2 = df.assign(zip_code = zip_code)"
   ]
  },
  {
   "cell_type": "code",
   "execution_count": 376,
   "metadata": {},
   "outputs": [],
   "source": [
    "df2['Bedrooms'] = df2['Bedrooms'].replace('--',0)\n",
    "df2['Bath_Spaces'] = df2['Bath_Spaces'].replace('--',0)\n",
    "df2['Zestimate'] = df2['Zestimate'].replace('',0)"
   ]
  },
  {
   "cell_type": "markdown",
   "metadata": {},
   "source": [
    "## Converting to Numeric datatype"
   ]
  },
  {
   "cell_type": "code",
   "execution_count": 344,
   "metadata": {},
   "outputs": [],
   "source": [
    "df2['Price'] = pd.to_numeric(df2['Price'])\n",
    "df2['Bath_Spaces'] = pd.to_numeric(df2['Bath_Spaces'])\n",
    "df2['Area'] = pd.to_numeric(df2['Area'])\n",
    "df2['Zestimate'] = pd.to_numeric(df2['Zestimate'])\n",
    "df2['zip_code'] = pd.to_numeric(df2['zip_code'])"
   ]
  },
  {
   "cell_type": "code",
   "execution_count": 360,
   "metadata": {},
   "outputs": [],
   "source": [
    "city = []\n",
    "for i in range(len(df2['Address'])):\n",
    "    string = str(df2['Address'][i])\n",
    "    \n",
    "    index = re.findall(', \\xa0(.*?), [A-Z]{2} \\d{5}$',string)\n",
    "    if len(index) != 0:\n",
    "        city.append(index[0])\n",
    "    else:\n",
    "        city.append('0')\n",
    "df3 = df2.assign(city = city)"
   ]
  },
  {
   "cell_type": "markdown",
   "metadata": {},
   "source": [
    "## Removing rows that contain zeroes"
   ]
  },
  {
   "cell_type": "code",
   "execution_count": 372,
   "metadata": {},
   "outputs": [],
   "source": [
    "df3.drop(df3[df3.Zestimate == 0].index, inplace =True)\n",
    "df3.drop(df3[df3.Price == 0].index, inplace =True)\n",
    "df3.drop(df3[df3.Built_Year == 0].index, inplace= True)\n",
    "df3.drop(df3[df3.Bedrooms == 0].index, inplace= True)\n",
    "df3.drop(df3[df3.Bath_Spaces == 0].index, inplace= True)\n",
    "df3.drop(df3[df3.Area == 0].index, inplace= True)"
   ]
  },
  {
   "cell_type": "markdown",
   "metadata": {},
   "source": [
    "## Checking NAs and Datatypes"
   ]
  },
  {
   "cell_type": "code",
   "execution_count": 375,
   "metadata": {},
   "outputs": [
    {
     "data": {
      "text/plain": [
       "Price          0\n",
       "Built_Year     0\n",
       "Apt_Type       0\n",
       "Heating        0\n",
       "Cooling        0\n",
       "Parking        0\n",
       "Address        0\n",
       "Bedrooms       0\n",
       "Bath_Spaces    0\n",
       "Area           0\n",
       "Zestimate      0\n",
       "zip_code       0\n",
       "city           0\n",
       "dtype: int64"
      ]
     },
     "execution_count": 375,
     "metadata": {},
     "output_type": "execute_result"
    }
   ],
   "source": [
    "df3.isna().sum()"
   ]
  },
  {
   "cell_type": "code",
   "execution_count": 377,
   "metadata": {},
   "outputs": [
    {
     "data": {
      "text/plain": [
       "Price            int64\n",
       "Built_Year       int64\n",
       "Apt_Type        object\n",
       "Heating         object\n",
       "Cooling         object\n",
       "Parking         object\n",
       "Address         object\n",
       "Bedrooms         int64\n",
       "Bath_Spaces    float64\n",
       "Area             int64\n",
       "Zestimate        int64\n",
       "zip_code         int64\n",
       "city            object\n",
       "dtype: object"
      ]
     },
     "execution_count": 377,
     "metadata": {},
     "output_type": "execute_result"
    }
   ],
   "source": [
    "df3.dtypes"
   ]
  },
  {
   "cell_type": "markdown",
   "metadata": {},
   "source": [
    "## Writing the dataset to a csv file"
   ]
  },
  {
   "cell_type": "code",
   "execution_count": 373,
   "metadata": {},
   "outputs": [],
   "source": [
    "df3.to_csv(\"Bay_Area_Housing_Data_Final.csv\",header = True, index = False)"
   ]
  }
 ],
 "metadata": {
  "kernelspec": {
   "display_name": "Python 3",
   "language": "python",
   "name": "python3"
  },
  "language_info": {
   "codemirror_mode": {
    "name": "ipython",
    "version": 3
   },
   "file_extension": ".py",
   "mimetype": "text/x-python",
   "name": "python",
   "nbconvert_exporter": "python",
   "pygments_lexer": "ipython3",
   "version": "3.7.3"
  }
 },
 "nbformat": 4,
 "nbformat_minor": 2
}
